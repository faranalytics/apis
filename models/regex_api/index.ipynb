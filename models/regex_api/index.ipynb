{
 "cells": [
  {
   "cell_type": "code",
   "execution_count": 3,
   "metadata": {},
   "outputs": [],
   "source": [
    "import os as os\n",
    "\n",
    "try: \n",
    "    _working_directory = os.path.dirname(_os.path.realpath(__file__))\n",
    "except NameError:\n",
    "    _working_directory = os.getcwd()\n",
    "    \n",
    "import sys\n",
    "import re\n",
    "import json\n",
    "\n",
    "os.chdir(_working_directory)\n",
    "\n",
    "with open('input.json', 'r') as f:\n",
    "    data = json.load(f)\n",
    "\n",
    "regexInput = data['regexInput']\n",
    "\n",
    "textInput = data['textInput']\n",
    "\n",
    "matches = []\n",
    "\n",
    "for match in re.finditer(regexInput, textInput):\n",
    "    \n",
    "    matches.append({'match': match.group(), 'index': match.span()[0]})\n",
    "    \n",
    "with open('output.json', 'w') as f:\n",
    "    json.dump(matches, f)"
   ]
  }
 ],
 "metadata": {
  "kernelspec": {
   "display_name": "Python 3",
   "language": "python",
   "name": "python3"
  },
  "language_info": {
   "codemirror_mode": {
    "name": "ipython",
    "version": 3
   },
   "file_extension": ".py",
   "mimetype": "text/x-python",
   "name": "python",
   "nbconvert_exporter": "python",
   "pygments_lexer": "ipython3",
   "version": "3.8.5"
  }
 },
 "nbformat": 4,
 "nbformat_minor": 4
}
